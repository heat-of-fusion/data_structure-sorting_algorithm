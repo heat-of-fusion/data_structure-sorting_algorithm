{
 "cells": [
  {
   "cell_type": "markdown",
   "metadata": {
    "id": "wZ-K2qTFdfPx"
   },
   "source": [
    "# Data Construction"
   ]
  },
  {
   "cell_type": "markdown",
   "metadata": {
    "id": "IVHLv1ij0N00"
   },
   "source": [
    "# List"
   ]
  },
  {
   "cell_type": "code",
   "execution_count": 1,
   "metadata": {
    "id": "0rLCAj5sErpp"
   },
   "outputs": [],
   "source": [
    "class Node:\n",
    "  def __init__(self, val):\n",
    "    self.d = val #data\n",
    "    self.Next = None"
   ]
  },
  {
   "cell_type": "code",
   "execution_count": 2,
   "metadata": {
    "id": "wMsDIoTbGy8o"
   },
   "outputs": [],
   "source": [
    "n1 = Node(5)"
   ]
  },
  {
   "cell_type": "code",
   "execution_count": 3,
   "metadata": {
    "id": "lKaTFm6XFBws"
   },
   "outputs": [],
   "source": [
    "class List:\n",
    "  def __init__(self):\n",
    "    self.length = 0\n",
    "    self.Root = Node(0)\n",
    "\n",
    "  def addNode(self, d):\n",
    "    n = Node(d)\n",
    "    if self.Root.Next == None:\n",
    "      self.Root.Next = n\n",
    "      self.length += 1\n",
    "      return\n",
    "    node = Node(0)\n",
    "    node = self.Root.Next\n",
    "    while node.Next != None:\n",
    "      node = node.Next\n",
    "    node.Next = n\n",
    "    self.length += 1\n",
    "\n",
    "  def removeNode(self, idx):\n",
    "    node = self.Root\n",
    "    for i in range(idx):\n",
    "      node = node.Next\n",
    "    node.Next = node.Next.Next\n",
    "    self.length -= 1\n",
    "\n",
    "  def insertNode(self, idx, d):\n",
    "    new_node = Node(d)\n",
    "    node = self.Root\n",
    "    for i in range(idx):\n",
    "      node = node.Next\n",
    "    new_node.Next = node.Next\n",
    "    node.Next = new_node\n",
    "    self.length += 1\n",
    "\n",
    "  def idxVal(self, idx):\n",
    "    node = self.Root\n",
    "    for i in range(idx + 1):\n",
    "      node = node.Next\n",
    "    return node.d\n",
    "\n",
    "  def show(self):\n",
    "    valArr = []\n",
    "    for i in range(self.len()):\n",
    "      valArr.append(self.idxVal(i))\n",
    "    return valArr\n",
    "    \n",
    "  def len(self):\n",
    "    return self.length"
   ]
  },
  {
   "cell_type": "code",
   "execution_count": 4,
   "metadata": {
    "id": "d93HNC-dF1wA"
   },
   "outputs": [],
   "source": [
    "li1 = List()"
   ]
  },
  {
   "cell_type": "code",
   "execution_count": 5,
   "metadata": {
    "id": "gjZPwTV5GDO5"
   },
   "outputs": [],
   "source": [
    "li1.addNode(1)"
   ]
  },
  {
   "cell_type": "code",
   "execution_count": 6,
   "metadata": {
    "colab": {
     "base_uri": "https://localhost:8080/"
    },
    "id": "vfbfDH--loH2",
    "outputId": "cee204aa-38cf-44c7-d219-d316aba7e706"
   },
   "outputs": [
    {
     "data": {
      "text/plain": [
       "1"
      ]
     },
     "execution_count": 6,
     "metadata": {},
     "output_type": "execute_result"
    }
   ],
   "source": [
    "li1.Root.Next.d"
   ]
  },
  {
   "cell_type": "code",
   "execution_count": 7,
   "metadata": {
    "colab": {
     "base_uri": "https://localhost:8080/"
    },
    "id": "V0gIhONQmYv3",
    "outputId": "dc99a6ae-b13a-4a66-808d-e052aa8df24b"
   },
   "outputs": [
    {
     "data": {
      "text/plain": [
       "2"
      ]
     },
     "execution_count": 7,
     "metadata": {},
     "output_type": "execute_result"
    }
   ],
   "source": [
    "li1.addNode(2)\n",
    "li1.Root.Next.Next.d"
   ]
  },
  {
   "cell_type": "code",
   "execution_count": 8,
   "metadata": {
    "colab": {
     "base_uri": "https://localhost:8080/"
    },
    "id": "Ku0xmd7bw8_z",
    "outputId": "181d4e85-3dbc-4fb6-a545-2e4ce0386f30"
   },
   "outputs": [
    {
     "data": {
      "text/plain": [
       "3"
      ]
     },
     "execution_count": 8,
     "metadata": {},
     "output_type": "execute_result"
    }
   ],
   "source": [
    "li1.addNode(3)\n",
    "li1.Root.Next.Next.Next.d"
   ]
  },
  {
   "cell_type": "code",
   "execution_count": 9,
   "metadata": {
    "colab": {
     "base_uri": "https://localhost:8080/"
    },
    "id": "sfioIhIavmyf",
    "outputId": "414b51bb-4c7d-493e-ad2d-cb9eff3bb556"
   },
   "outputs": [
    {
     "name": "stdout",
     "output_type": "stream",
     "text": [
      "li[0] = 1\n",
      "li[1] = 2\n",
      "li[2] = 3\n"
     ]
    }
   ],
   "source": [
    "for i in range(3):\n",
    "  val = eval('li1.Root.' + 'Next.' * (i + 1) + 'd')\n",
    "  print(f'li[{i}] = {val}')"
   ]
  },
  {
   "cell_type": "code",
   "execution_count": 10,
   "metadata": {
    "id": "uxXXrtPExjmZ"
   },
   "outputs": [],
   "source": [
    "li1.removeNode(1)"
   ]
  },
  {
   "cell_type": "code",
   "execution_count": 11,
   "metadata": {
    "colab": {
     "base_uri": "https://localhost:8080/"
    },
    "id": "-nr3EBFlxyDm",
    "outputId": "469ecaef-d52d-427c-8c04-6e7919aa3fce"
   },
   "outputs": [
    {
     "name": "stdout",
     "output_type": "stream",
     "text": [
      "li[0] = 1\n",
      "li[1] = 3\n"
     ]
    }
   ],
   "source": [
    "def print_li1():\n",
    "  for i in range(li1.len()):\n",
    "    val = eval('li1.Root.' + 'Next.' * (i + 1) + 'd')\n",
    "    print(f'li[{i}] = {val}')\n",
    "print_li1()"
   ]
  },
  {
   "cell_type": "code",
   "execution_count": 12,
   "metadata": {
    "id": "Cg0C2ZrJxzAs"
   },
   "outputs": [],
   "source": [
    "li1.insertNode(1, 4)"
   ]
  },
  {
   "cell_type": "code",
   "execution_count": 13,
   "metadata": {
    "colab": {
     "base_uri": "https://localhost:8080/"
    },
    "id": "v6F7sWW9zbRj",
    "outputId": "ce7b76b3-bdbc-4c55-b5fe-02d097b367b9"
   },
   "outputs": [
    {
     "name": "stdout",
     "output_type": "stream",
     "text": [
      "li[0] = 1\n",
      "li[1] = 4\n",
      "li[2] = 3\n"
     ]
    }
   ],
   "source": [
    "print_li1()"
   ]
  },
  {
   "cell_type": "code",
   "execution_count": 14,
   "metadata": {
    "colab": {
     "base_uri": "https://localhost:8080/"
    },
    "id": "1W16NApwzcRL",
    "outputId": "d7adb522-e1fb-4ec7-af6b-4f4674296fbe"
   },
   "outputs": [
    {
     "name": "stdout",
     "output_type": "stream",
     "text": [
      "1\n",
      "4\n",
      "3\n"
     ]
    }
   ],
   "source": [
    "for i in range(li1.len()):\n",
    "  print(li1.idxVal(i))"
   ]
  },
  {
   "cell_type": "code",
   "execution_count": 15,
   "metadata": {
    "colab": {
     "base_uri": "https://localhost:8080/"
    },
    "id": "mfMF2LwX1kRk",
    "outputId": "ed3cc075-2acf-4a89-8b7b-d42e0909e66e"
   },
   "outputs": [
    {
     "data": {
      "text/plain": [
       "[1, 4, 3]"
      ]
     },
     "execution_count": 15,
     "metadata": {},
     "output_type": "execute_result"
    }
   ],
   "source": [
    "li1.show()"
   ]
  },
  {
   "cell_type": "markdown",
   "metadata": {
    "id": "k-QMD6i50TRp"
   },
   "source": [
    "# Stack"
   ]
  },
  {
   "cell_type": "code",
   "execution_count": 16,
   "metadata": {
    "id": "5lCt2wEX0Six"
   },
   "outputs": [],
   "source": [
    "class Stack:\n",
    "  def __init__(self):\n",
    "    self.length = 0\n",
    "    self.Root = Node(0)\n",
    "\n",
    "  def push(self, d):\n",
    "    n = Node(d)\n",
    "    if self.Root.Next == None:\n",
    "      self.Root.Next = n\n",
    "      self.length += 1\n",
    "      return\n",
    "    n.Next = self.Root.Next\n",
    "    self.Root.Next = n\n",
    "    self.length += 1\n",
    "\n",
    "  def pop(self):\n",
    "    rtnVal = self.Root.Next.d\n",
    "    self.Root.Next = self.Root.Next.Next\n",
    "    self.length -= 1\n",
    "    return rtnVal\n",
    "\n",
    "  def idxVal(self, idx):\n",
    "    node = self.Root\n",
    "    for i in range(idx + 1):\n",
    "      node = node.Next\n",
    "    return node.d\n",
    "\n",
    "  def show(self):\n",
    "    valArr = []\n",
    "    for i in range(self.len()):\n",
    "      valArr.append(self.idxVal(i))\n",
    "    return valArr\n",
    "    \n",
    "  def len(self):\n",
    "    return self.length\n"
   ]
  },
  {
   "cell_type": "code",
   "execution_count": 17,
   "metadata": {
    "colab": {
     "base_uri": "https://localhost:8080/"
    },
    "id": "EI-xMYr_01wn",
    "outputId": "7cd30853-d31d-4369-9bb8-224b7c6d479b"
   },
   "outputs": [
    {
     "data": {
      "text/plain": [
       "1"
      ]
     },
     "execution_count": 17,
     "metadata": {},
     "output_type": "execute_result"
    }
   ],
   "source": [
    "st1 = Stack()\n",
    "st1.push(1)\n",
    "st1.Root.Next.d"
   ]
  },
  {
   "cell_type": "code",
   "execution_count": 18,
   "metadata": {
    "colab": {
     "base_uri": "https://localhost:8080/"
    },
    "id": "dajK9dFj04zN",
    "outputId": "aeecfc5f-bd88-4ebd-82d9-74c83c6523d5"
   },
   "outputs": [
    {
     "data": {
      "text/plain": [
       "2"
      ]
     },
     "execution_count": 18,
     "metadata": {},
     "output_type": "execute_result"
    }
   ],
   "source": [
    "st1.push(2)\n",
    "st1.Root.Next.d"
   ]
  },
  {
   "cell_type": "code",
   "execution_count": 19,
   "metadata": {
    "colab": {
     "base_uri": "https://localhost:8080/"
    },
    "id": "T_r94Qvt1JNx",
    "outputId": "10af1376-80cb-4c90-ef68-290cadb75575"
   },
   "outputs": [
    {
     "data": {
      "text/plain": [
       "[2, 1]"
      ]
     },
     "execution_count": 19,
     "metadata": {},
     "output_type": "execute_result"
    }
   ],
   "source": [
    "st1.show()"
   ]
  },
  {
   "cell_type": "code",
   "execution_count": 20,
   "metadata": {
    "colab": {
     "base_uri": "https://localhost:8080/"
    },
    "id": "Ij54N1Di11VX",
    "outputId": "c7a69e06-724e-4980-866a-c8d7ee0c5ac0"
   },
   "outputs": [
    {
     "name": "stdout",
     "output_type": "stream",
     "text": [
      "2\n"
     ]
    },
    {
     "data": {
      "text/plain": [
       "[1]"
      ]
     },
     "execution_count": 20,
     "metadata": {},
     "output_type": "execute_result"
    }
   ],
   "source": [
    "print(st1.pop())\n",
    "st1.show()"
   ]
  },
  {
   "cell_type": "code",
   "execution_count": 21,
   "metadata": {
    "colab": {
     "base_uri": "https://localhost:8080/"
    },
    "id": "5xC4DIe-2uGU",
    "outputId": "1b78935f-23c7-4c60-ecf5-9624b1cff033"
   },
   "outputs": [
    {
     "data": {
      "text/plain": [
       "1"
      ]
     },
     "execution_count": 21,
     "metadata": {},
     "output_type": "execute_result"
    }
   ],
   "source": [
    "st1.pop()"
   ]
  },
  {
   "cell_type": "code",
   "execution_count": 22,
   "metadata": {
    "colab": {
     "base_uri": "https://localhost:8080/"
    },
    "id": "FBQ5ET8i28Mk",
    "outputId": "edc24a3a-2d5f-4dad-a056-5047349316f4"
   },
   "outputs": [
    {
     "data": {
      "text/plain": [
       "[]"
      ]
     },
     "execution_count": 22,
     "metadata": {},
     "output_type": "execute_result"
    }
   ],
   "source": [
    "st1.show()"
   ]
  },
  {
   "cell_type": "code",
   "execution_count": 23,
   "metadata": {
    "colab": {
     "base_uri": "https://localhost:8080/"
    },
    "id": "w8HlCnwb29NM",
    "outputId": "63c72458-9d6c-44cd-cd13-6b575dd09895"
   },
   "outputs": [
    {
     "data": {
      "text/plain": [
       "[1, 2, 3, 4, 5]"
      ]
     },
     "execution_count": 23,
     "metadata": {},
     "output_type": "execute_result"
    }
   ],
   "source": [
    "for i in range(5, 0, -1):\n",
    "  st1.push(i)\n",
    "st1.show()"
   ]
  },
  {
   "cell_type": "code",
   "execution_count": 24,
   "metadata": {
    "id": "tXKGpbPO3Fd5"
   },
   "outputs": [],
   "source": [
    "st1.push(4)"
   ]
  },
  {
   "cell_type": "code",
   "execution_count": 25,
   "metadata": {
    "colab": {
     "base_uri": "https://localhost:8080/"
    },
    "id": "n4k_XCIE3Jdv",
    "outputId": "b2cf473f-933b-4bbb-b129-470194e49800"
   },
   "outputs": [
    {
     "data": {
      "text/plain": [
       "[4, 1, 2, 3, 4, 5]"
      ]
     },
     "execution_count": 25,
     "metadata": {},
     "output_type": "execute_result"
    }
   ],
   "source": [
    "st1.show()"
   ]
  },
  {
   "cell_type": "markdown",
   "metadata": {
    "id": "jmmo7NoZ3UOa"
   },
   "source": [
    "# Queue"
   ]
  },
  {
   "cell_type": "code",
   "execution_count": 26,
   "metadata": {
    "id": "srMq-9CL3gr7"
   },
   "outputs": [],
   "source": [
    "class Queue:\n",
    "  def __init__(self):\n",
    "    self.length = 0\n",
    "    self.Root = Node(0)\n",
    "\n",
    "  def add(self, d):\n",
    "    n = Node(d)\n",
    "    if self.Root.Next == None:\n",
    "      self.Root.Next = n\n",
    "      self.length += 1\n",
    "      return\n",
    "    node = Node(0)\n",
    "    node = self.Root.Next\n",
    "    while node.Next != None:\n",
    "      node = node.Next\n",
    "    node.Next = n\n",
    "    self.length += 1\n",
    "\n",
    "  def get(self):\n",
    "    rtnVal = self.Root.Next.d\n",
    "    self.Root.Next = self.Root.Next.Next\n",
    "    self.length -= 1\n",
    "    return rtnVal\n",
    "\n",
    "  def idxVal(self, idx):\n",
    "    node = self.Root\n",
    "    for i in range(idx + 1):\n",
    "      node = node.Next\n",
    "    return node.d\n",
    "\n",
    "  def show(self):\n",
    "    valArr = []\n",
    "    for i in range(self.len()):\n",
    "      valArr.append(self.idxVal(i))\n",
    "    return valArr\n",
    "    \n",
    "  def len(self):\n",
    "    return self.length"
   ]
  },
  {
   "cell_type": "code",
   "execution_count": 27,
   "metadata": {
    "colab": {
     "base_uri": "https://localhost:8080/"
    },
    "id": "c_0-S3Jr3KKV",
    "outputId": "6d218174-3bdb-449d-b6ab-297eac0bc3ae"
   },
   "outputs": [
    {
     "data": {
      "text/plain": [
       "[1, 2, 3, 4, 5]"
      ]
     },
     "execution_count": 27,
     "metadata": {},
     "output_type": "execute_result"
    }
   ],
   "source": [
    "qe1 = Queue()\n",
    "for i in range(5):\n",
    "  qe1.add(i + 1)\n",
    "qe1.show()"
   ]
  },
  {
   "cell_type": "code",
   "execution_count": 28,
   "metadata": {
    "colab": {
     "base_uri": "https://localhost:8080/"
    },
    "id": "rNQO4-PE4ksl",
    "outputId": "a6a94bdb-17e7-4d03-8382-50ad516feeee"
   },
   "outputs": [
    {
     "name": "stdout",
     "output_type": "stream",
     "text": [
      "1\n",
      "[2, 3, 4, 5]\n",
      "2\n",
      "[3, 4, 5]\n",
      "3\n",
      "[4, 5]\n",
      "4\n",
      "[5]\n",
      "5\n",
      "[]\n"
     ]
    }
   ],
   "source": [
    "for i in range(5):\n",
    "  print(qe1.get())\n",
    "  print(qe1.show())"
   ]
  },
  {
   "cell_type": "markdown",
   "metadata": {
    "id": "VZyNQ9jt5GZV"
   },
   "source": [
    "# Set"
   ]
  },
  {
   "cell_type": "code",
   "execution_count": 29,
   "metadata": {
    "id": "82uzowQI4yEq"
   },
   "outputs": [],
   "source": [
    "class Set:\n",
    "  def __init__(self):\n",
    "    self.length = 0\n",
    "    self.Root = Node(0)\n",
    "\n",
    "  def add(self, d):\n",
    "    n = Node(d)\n",
    "    # print(f'체크값: {self.check(n)}')\n",
    "    if self.check(n):\n",
    "      print('값이 중복되었습니다.')\n",
    "      return\n",
    "    if self.Root.Next == None:\n",
    "      self.Root.Next = n\n",
    "      self.length += 1\n",
    "      return\n",
    "    node = self.Root.Next\n",
    "    while node.Next != None:\n",
    "      node = node.Next\n",
    "    node.Next = n\n",
    "    self.length += 1\n",
    "\n",
    "  def remove(self):\n",
    "    if self.Root.Next == None:\n",
    "      print('Set이 비어있습니다.')\n",
    "      return\n",
    "    node = self.Root.Next\n",
    "    if node.Next == None:\n",
    "      self.Root.Next = None\n",
    "      self.length -= 1\n",
    "      return\n",
    "    while node.Next != None:\n",
    "      if node.Next.Next == None:\n",
    "        node.Next = None\n",
    "        self.length -= 1\n",
    "        return\n",
    "      node = node.Next\n",
    "\n",
    "  def removeVal(self, d):\n",
    "    node = self.Root\n",
    "    while node.Next!= None:\n",
    "      if node.Next.d == d:\n",
    "        node.Next = node.Next.Next\n",
    "        self.length -= 1\n",
    "        return\n",
    "      node = node.Next\n",
    "    print(f'{d}는 해당 Map 내에 존재하지 않습니다.')\n",
    "  \n",
    "  def check(self, n):\n",
    "    # print(f'입력값: {n.d}')\n",
    "    if self.Root.Next == None:\n",
    "      # print('1차 false')\n",
    "      return False\n",
    "    node = self.Root\n",
    "    while node.Next != None:\n",
    "      node = node.Next\n",
    "      if node.d == n.d:\n",
    "        # print(f'node.d = {node.d}, n.d = {n.d}')\n",
    "        return True\n",
    "    # print('2차 false')\n",
    "    return False\n",
    "\n",
    "  def idxVal(self, idx):\n",
    "    node = self.Root\n",
    "    for i in range(idx + 1):\n",
    "      node = node.Next\n",
    "    return node.d\n",
    "\n",
    "  def show(self):\n",
    "    valArr = []\n",
    "    for i in range(self.len()):\n",
    "      valArr.append(self.idxVal(i))\n",
    "    return valArr\n",
    "    \n",
    "  def len(self):\n",
    "    return self.length"
   ]
  },
  {
   "cell_type": "code",
   "execution_count": 30,
   "metadata": {
    "colab": {
     "base_uri": "https://localhost:8080/"
    },
    "id": "03CtTcqW9npn",
    "outputId": "aa5c8d9f-aa9b-4153-bce5-ca22b33e208a"
   },
   "outputs": [
    {
     "data": {
      "text/plain": [
       "[1, 2, 3, 4, 5]"
      ]
     },
     "execution_count": 30,
     "metadata": {},
     "output_type": "execute_result"
    }
   ],
   "source": [
    "set1 = Set()\n",
    "for i in range(1, 6):\n",
    "  set1.add(i)\n",
    "set1.show()"
   ]
  },
  {
   "cell_type": "code",
   "execution_count": 31,
   "metadata": {
    "colab": {
     "base_uri": "https://localhost:8080/"
    },
    "id": "m_3hqGCe-IZT",
    "outputId": "079e929c-c725-4214-8b1f-6ca95663fe37"
   },
   "outputs": [
    {
     "data": {
      "text/plain": [
       "[1, 2, 3, 4]"
      ]
     },
     "execution_count": 31,
     "metadata": {},
     "output_type": "execute_result"
    }
   ],
   "source": [
    "set1.remove()\n",
    "set1.show()"
   ]
  },
  {
   "cell_type": "code",
   "execution_count": 32,
   "metadata": {
    "colab": {
     "base_uri": "https://localhost:8080/"
    },
    "id": "OWSdXY96LYSz",
    "outputId": "48bb72f6-3de3-4aac-ec63-834d258dc9da"
   },
   "outputs": [
    {
     "data": {
      "text/plain": [
       "[2, 3, 4]"
      ]
     },
     "execution_count": 32,
     "metadata": {},
     "output_type": "execute_result"
    }
   ],
   "source": [
    "set1.removeVal(1)\n",
    "set1.show()"
   ]
  },
  {
   "cell_type": "markdown",
   "metadata": {
    "id": "LPvOFPfq-3oU"
   },
   "source": [
    "# Map"
   ]
  },
  {
   "cell_type": "code",
   "execution_count": 33,
   "metadata": {
    "id": "O-23QwD--pkv"
   },
   "outputs": [],
   "source": [
    "class MNode:\n",
    "  def __init__(self, key, val):\n",
    "    self.k = key # key\n",
    "    self.d = val # data\n",
    "    self.Next = None"
   ]
  },
  {
   "cell_type": "code",
   "execution_count": 34,
   "metadata": {
    "id": "gzKCK3yl_G5P"
   },
   "outputs": [],
   "source": [
    "class Map:\n",
    "  def __init__(self):\n",
    "    self.length = 0\n",
    "    self.Root = MNode('', 0)\n",
    "\n",
    "  def add(self, k, d):\n",
    "    if k == '':\n",
    "      print('빈 문자열을 Key로 지정할 수 없습니다.')\n",
    "    n = MNode(k, d)\n",
    "    if self.check(n):\n",
    "      print('값이 중복되었습니다.')\n",
    "      return\n",
    "    if self.Root.Next == None:\n",
    "      self.Root.Next = n\n",
    "      self.length += 1\n",
    "      return\n",
    "    node = self.Root.Next\n",
    "    while node.Next != None:\n",
    "      node = node.Next\n",
    "    node.Next = n\n",
    "    self.length += 1\n",
    "\n",
    "  def remove(self):\n",
    "    if self.Root.Next == None:\n",
    "      print('Map이 비어있습니다.')\n",
    "      return\n",
    "    node = self.Root.Next\n",
    "    if node.Next == None:\n",
    "      self.Root.Next = None\n",
    "      self.length -= 1\n",
    "      return\n",
    "    while node.Next != None:\n",
    "      if node.Next.Next == None:\n",
    "        node.Next = None\n",
    "        self.length -= 1\n",
    "        return\n",
    "      node = node.Next\n",
    "\n",
    "  def removeKey(self, key):\n",
    "    node = self.Root\n",
    "    while node.Next!= None:\n",
    "      if node.Next.k == key:\n",
    "        node.Next = node.Next.Next\n",
    "        self.length -= 1\n",
    "        return\n",
    "      node = node.Next\n",
    "    print(f'{key}는 해당 Map 내에 존재하지 않습니다.')\n",
    "  \n",
    "  def check(self, n):\n",
    "    if self.Root.Next == None:\n",
    "      return False\n",
    "    node = self.Root\n",
    "    while node.Next != None:\n",
    "      node = node.Next\n",
    "      if node.k == n.k:\n",
    "        return True\n",
    "    return False\n",
    "\n",
    "  def keyVal(self, key):\n",
    "    node = self.Root\n",
    "    while node.Next != None:\n",
    "      node = node.Next\n",
    "      if node.k == key:\n",
    "        return node.d\n",
    "      \n",
    "    return node.d\n",
    "\n",
    "  def show(self):\n",
    "    valArr = []\n",
    "    node = self.Root.Next\n",
    "    for i in range(self.len()):\n",
    "      valArr.append((node.k, node.d))\n",
    "      node = node.Next\n",
    "    return valArr\n",
    "  \n",
    "  def Keys(self):\n",
    "    return [map[0] for map in self.show()]\n",
    "\n",
    "  def Vals(self):\n",
    "    return [map[1] for map in self.show()]\n",
    "    \n",
    "  def len(self):\n",
    "    return self.length"
   ]
  },
  {
   "cell_type": "code",
   "execution_count": 35,
   "metadata": {
    "colab": {
     "base_uri": "https://localhost:8080/"
    },
    "id": "k423VZbfJvrG",
    "outputId": "edc0d232-724e-4db6-fee8-4a46bfa3cf9b"
   },
   "outputs": [
    {
     "data": {
      "text/plain": [
       "[('v0', 0), ('v1', 1), ('v2', 2)]"
      ]
     },
     "execution_count": 35,
     "metadata": {},
     "output_type": "execute_result"
    }
   ],
   "source": [
    "map1 = Map()\n",
    "for i in range(3):\n",
    "  map1.add(f'v{i}', i)\n",
    "map1.show()"
   ]
  },
  {
   "cell_type": "code",
   "execution_count": 36,
   "metadata": {
    "colab": {
     "base_uri": "https://localhost:8080/"
    },
    "id": "rh87BJqIJ-Vh",
    "outputId": "539994a1-91db-4397-eb39-58d258fcb12a"
   },
   "outputs": [
    {
     "name": "stdout",
     "output_type": "stream",
     "text": [
      "값이 중복되었습니다.\n"
     ]
    },
    {
     "data": {
      "text/plain": [
       "[('v0', 0), ('v1', 1), ('v2', 2)]"
      ]
     },
     "execution_count": 36,
     "metadata": {},
     "output_type": "execute_result"
    }
   ],
   "source": [
    "map1.add('v1', 4)\n",
    "map1.show()"
   ]
  },
  {
   "cell_type": "code",
   "execution_count": 37,
   "metadata": {
    "colab": {
     "base_uri": "https://localhost:8080/"
    },
    "id": "I3vWAabpKDIN",
    "outputId": "e1e43750-5734-44e3-e5f4-a7030e895c53"
   },
   "outputs": [
    {
     "data": {
      "text/plain": [
       "[('v0', 0), ('v1', 1)]"
      ]
     },
     "execution_count": 37,
     "metadata": {},
     "output_type": "execute_result"
    }
   ],
   "source": [
    "map1.remove()\n",
    "map1.show()"
   ]
  },
  {
   "cell_type": "code",
   "execution_count": 38,
   "metadata": {
    "colab": {
     "base_uri": "https://localhost:8080/"
    },
    "id": "EloA65MnKJT2",
    "outputId": "60bd7527-47bb-4ee2-8367-d8c020036379"
   },
   "outputs": [
    {
     "data": {
      "text/plain": [
       "[('v1', 1)]"
      ]
     },
     "execution_count": 38,
     "metadata": {},
     "output_type": "execute_result"
    }
   ],
   "source": [
    "map1.removeKey('v0')\n",
    "map1.show()"
   ]
  },
  {
   "cell_type": "code",
   "execution_count": 39,
   "metadata": {
    "colab": {
     "base_uri": "https://localhost:8080/"
    },
    "id": "vbMHlBhXKsQ5",
    "outputId": "2d6fbae1-6feb-4dc1-d072-0db8cd7aff3b"
   },
   "outputs": [
    {
     "name": "stdout",
     "output_type": "stream",
     "text": [
      "v2는 해당 Map 내에 존재하지 않습니다.\n"
     ]
    },
    {
     "data": {
      "text/plain": [
       "[('v1', 1)]"
      ]
     },
     "execution_count": 39,
     "metadata": {},
     "output_type": "execute_result"
    }
   ],
   "source": [
    "map1.removeKey('v2')\n",
    "map1.show()"
   ]
  },
  {
   "cell_type": "code",
   "execution_count": 40,
   "metadata": {
    "colab": {
     "base_uri": "https://localhost:8080/"
    },
    "id": "vBn7QaLXMk5V",
    "outputId": "b11d308d-3e5c-42cb-b91a-ff739a300712"
   },
   "outputs": [
    {
     "data": {
      "text/plain": [
       "[]"
      ]
     },
     "execution_count": 40,
     "metadata": {},
     "output_type": "execute_result"
    }
   ],
   "source": [
    "for i in range(map1.len()):\n",
    "  map1.remove()\n",
    "map1.show()"
   ]
  },
  {
   "cell_type": "code",
   "execution_count": 41,
   "metadata": {
    "colab": {
     "base_uri": "https://localhost:8080/"
    },
    "id": "Kx6FfPT2Mx_w",
    "outputId": "c87e642c-7021-4736-8304-29fd543de0fe"
   },
   "outputs": [
    {
     "data": {
      "text/plain": [
       "[('v0', 0), ('v1', 1), ('v2', 2), ('v3', 3), ('v4', 4)]"
      ]
     },
     "execution_count": 41,
     "metadata": {},
     "output_type": "execute_result"
    }
   ],
   "source": [
    "for i in range(5):\n",
    "  map1.add(f'v{i}', i)\n",
    "map1.show()"
   ]
  },
  {
   "cell_type": "code",
   "execution_count": 42,
   "metadata": {
    "colab": {
     "base_uri": "https://localhost:8080/"
    },
    "id": "7HHGmPTVM4Ks",
    "outputId": "fdab6987-1c6d-4709-8e2d-76cee416c53c"
   },
   "outputs": [
    {
     "data": {
      "text/plain": [
       "['v0', 'v1', 'v2', 'v3', 'v4']"
      ]
     },
     "execution_count": 42,
     "metadata": {},
     "output_type": "execute_result"
    }
   ],
   "source": [
    "map1.Keys()"
   ]
  },
  {
   "cell_type": "code",
   "execution_count": 43,
   "metadata": {
    "colab": {
     "base_uri": "https://localhost:8080/"
    },
    "id": "DGEAa4ubM85F",
    "outputId": "a77cec5c-7f90-4b89-e88b-1e30731b3fc8"
   },
   "outputs": [
    {
     "data": {
      "text/plain": [
       "[0, 1, 2, 3, 4]"
      ]
     },
     "execution_count": 43,
     "metadata": {},
     "output_type": "execute_result"
    }
   ],
   "source": [
    "map1.Vals()"
   ]
  },
  {
   "cell_type": "code",
   "execution_count": null,
   "metadata": {
    "id": "hbIS5d3pNFRS"
   },
   "outputs": [],
   "source": []
  },
  {
   "cell_type": "markdown",
   "metadata": {
    "id": "KMD-tThFM7gH"
   },
   "source": [
    "# Tree"
   ]
  },
  {
   "cell_type": "code",
   "execution_count": null,
   "metadata": {
    "id": "rLhSijc7M9-r"
   },
   "outputs": [],
   "source": []
  },
  {
   "cell_type": "markdown",
   "metadata": {
    "id": "SPelfI6FdprF"
   },
   "source": [
    "# Data Sort"
   ]
  },
  {
   "cell_type": "markdown",
   "metadata": {
    "id": "D8oAyTyS_jxv"
   },
   "source": [
    "# Basic Sorting Algorithm"
   ]
  },
  {
   "cell_type": "code",
   "execution_count": 44,
   "metadata": {
    "id": "BM6MTkp0dsqN"
   },
   "outputs": [],
   "source": [
    "import random"
   ]
  },
  {
   "cell_type": "code",
   "execution_count": 45,
   "metadata": {
    "id": "3ABIp3T2eiaB"
   },
   "outputs": [],
   "source": [
    "def genRand(n):\n",
    "  randList = list(range(1, n + 1))\n",
    "  random.shuffle(randList)\n",
    "  return randList"
   ]
  },
  {
   "cell_type": "code",
   "execution_count": 46,
   "metadata": {
    "colab": {
     "base_uri": "https://localhost:8080/"
    },
    "id": "wPngU_0Pe5K1",
    "outputId": "7e1a1f45-5070-4895-d8ca-ceae2f0326c1"
   },
   "outputs": [
    {
     "name": "stdout",
     "output_type": "stream",
     "text": [
      "초기 리스트 = [8, 4, 7, 5, 6, 1, 9, 2, 3, 10]\n",
      "정렬된 리스트 = [1, 2, 3, 4, 5, 6, 7, 8, 9, 10]\n"
     ]
    }
   ],
   "source": [
    "randList = genRand(10)\n",
    "print(f'초기 리스트 = {randList}')\n",
    "for i in range(len(randList)):\n",
    "  lowest = (randList[i], i)\n",
    "  for j in range(i + 1, len(randList)):\n",
    "    if lowest[0] > randList[j]:\n",
    "      # print(f'{lowest[0]} > {randList[j]}')\n",
    "      lowest = (randList[j], j)\n",
    "  randList[i], randList[lowest[1]] = randList[lowest[1]], randList[i]\n",
    "  # print(randList)\n",
    "\n",
    "print(f'정렬된 리스트 = {randList}')"
   ]
  },
  {
   "cell_type": "code",
   "execution_count": 47,
   "metadata": {
    "id": "Lzzn-gAoAab0"
   },
   "outputs": [],
   "source": [
    "def basicSort(l):\n",
    "  for i in range(len(l)):\n",
    "    lowest = (l[i], i)\n",
    "    for j in range(i + 1, len(l)):\n",
    "      if lowest[0] > l[j]:\n",
    "        lowest = (l[j], j)\n",
    "    l[i], l[lowest[1]] = l[lowest[1]], l[i]\n",
    "  return l"
   ]
  },
  {
   "cell_type": "code",
   "execution_count": 48,
   "metadata": {
    "colab": {
     "base_uri": "https://localhost:8080/"
    },
    "id": "4z96znNvBByd",
    "outputId": "2fdd8f3a-86b8-4bb6-eefe-2a8fd8bf7d7e"
   },
   "outputs": [
    {
     "name": "stdout",
     "output_type": "stream",
     "text": [
      "[2, 3, 3, 4, 5, 5]\n"
     ]
    }
   ],
   "source": [
    "li1 = [4, 2, 5, 3, 5, 3]\n",
    "print(basicSort(li1))"
   ]
  },
  {
   "cell_type": "markdown",
   "metadata": {
    "id": "n9PBBwc5AKju"
   },
   "source": [
    "# Bubble Sort"
   ]
  },
  {
   "cell_type": "code",
   "execution_count": 49,
   "metadata": {
    "colab": {
     "base_uri": "https://localhost:8080/"
    },
    "id": "hqHvnnrrg1k-",
    "outputId": "f68f2e6d-e385-495d-b062-1473f9d3847d"
   },
   "outputs": [
    {
     "name": "stdout",
     "output_type": "stream",
     "text": [
      "초기 리스트 = [3, 1, 10, 6, 9, 4, 2, 8, 5, 7]\n",
      "3 < 10\n",
      "pivot = 10\n",
      "randList[0] 3 <=> randList[2] 10\n",
      "randList[0] = 10, randList[2] = 3\n",
      "1 < 10\n",
      "pivot = 10\n",
      "randList[1] 1 <=> randList[0] 10\n",
      "randList[1] = 10, randList[0] = 1\n",
      "3 < 10\n",
      "pivot = 10\n",
      "randList[2] 3 <=> randList[1] 10\n",
      "randList[2] = 10, randList[1] = 3\n",
      "6 < 10\n",
      "pivot = 10\n",
      "randList[3] 6 <=> randList[2] 10\n",
      "randList[3] = 10, randList[2] = 6\n",
      "9 < 10\n",
      "pivot = 10\n",
      "randList[4] 9 <=> randList[3] 10\n",
      "randList[4] = 10, randList[3] = 9\n",
      "4 < 6\n",
      "pivot = 6\n",
      "randList[5] 4 <=> randList[2] 6\n",
      "randList[5] = 6, randList[2] = 4\n",
      "6 < 9\n",
      "pivot = 9\n",
      "randList[5] 6 <=> randList[3] 9\n",
      "randList[5] = 9, randList[3] = 6\n",
      "9 < 10\n",
      "pivot = 10\n",
      "randList[5] 9 <=> randList[4] 10\n",
      "randList[5] = 10, randList[4] = 9\n",
      "2 < 3\n",
      "pivot = 3\n",
      "randList[6] 2 <=> randList[1] 3\n",
      "randList[6] = 3, randList[1] = 2\n",
      "3 < 4\n",
      "pivot = 4\n",
      "randList[6] 3 <=> randList[2] 4\n",
      "randList[6] = 4, randList[2] = 3\n",
      "4 < 6\n",
      "pivot = 6\n",
      "randList[6] 4 <=> randList[3] 6\n",
      "randList[6] = 6, randList[3] = 4\n",
      "6 < 9\n",
      "pivot = 9\n",
      "randList[6] 6 <=> randList[4] 9\n",
      "randList[6] = 9, randList[4] = 6\n",
      "9 < 10\n",
      "pivot = 10\n",
      "randList[6] 9 <=> randList[5] 10\n",
      "randList[6] = 10, randList[5] = 9\n",
      "8 < 9\n",
      "pivot = 9\n",
      "randList[7] 8 <=> randList[5] 9\n",
      "randList[7] = 9, randList[5] = 8\n",
      "9 < 10\n",
      "pivot = 10\n",
      "randList[7] 9 <=> randList[6] 10\n",
      "randList[7] = 10, randList[6] = 9\n",
      "5 < 6\n",
      "pivot = 6\n",
      "randList[8] 5 <=> randList[4] 6\n",
      "randList[8] = 6, randList[4] = 5\n",
      "6 < 8\n",
      "pivot = 8\n",
      "randList[8] 6 <=> randList[5] 8\n",
      "randList[8] = 8, randList[5] = 6\n",
      "8 < 9\n",
      "pivot = 9\n",
      "randList[8] 8 <=> randList[6] 9\n",
      "randList[8] = 9, randList[6] = 8\n",
      "9 < 10\n",
      "pivot = 10\n",
      "randList[8] 9 <=> randList[7] 10\n",
      "randList[8] = 10, randList[7] = 9\n",
      "7 < 8\n",
      "pivot = 8\n",
      "randList[9] 7 <=> randList[6] 8\n",
      "randList[9] = 8, randList[6] = 7\n",
      "8 < 9\n",
      "pivot = 9\n",
      "randList[9] 8 <=> randList[7] 9\n",
      "randList[9] = 9, randList[7] = 8\n",
      "9 < 10\n",
      "pivot = 10\n",
      "randList[9] 9 <=> randList[8] 10\n",
      "randList[9] = 10, randList[8] = 9\n"
     ]
    },
    {
     "data": {
      "text/plain": [
       "[1, 2, 3, 4, 5, 6, 7, 8, 9, 10]"
      ]
     },
     "execution_count": 49,
     "metadata": {},
     "output_type": "execute_result"
    }
   ],
   "source": [
    "randList = genRand(10)\n",
    "print(f'초기 리스트 = {randList}')\n",
    "\n",
    "for i in range(len(randList)):\n",
    "  pivot = randList[i]\n",
    "  for j in range(len(randList)):\n",
    "    if pivot < randList[j]:\n",
    "      print(f'{pivot} < {randList[j]}')\n",
    "      pivot = randList[j]\n",
    "      print(f'pivot = {pivot}')\n",
    "      print(f'randList[{i}] {randList[i]} <=> randList[{j}] {randList[j]}')\n",
    "      randList[i], randList[j] = randList[j], randList[i]\n",
    "      print(f'randList[{i}] = {randList[i]}, randList[{j}] = {randList[j]}')\n",
    "\n",
    "randList"
   ]
  },
  {
   "cell_type": "code",
   "execution_count": 50,
   "metadata": {
    "id": "90q1TmYlCJSs"
   },
   "outputs": [],
   "source": [
    "def bubbleSort(l):\n",
    "  for i in range(len(l)):\n",
    "    pivot = l[i]\n",
    "    for j in range(len(l)):\n",
    "      if pivot < l[j]:\n",
    "        pivot = l[j]\n",
    "        l[i], l[j] = l[j], l[i]\n",
    "  return l"
   ]
  },
  {
   "cell_type": "code",
   "execution_count": 51,
   "metadata": {
    "colab": {
     "base_uri": "https://localhost:8080/"
    },
    "id": "oZJOlm16LZmp",
    "outputId": "0f33868b-7430-42f9-bdae-3d6243ed3d64"
   },
   "outputs": [
    {
     "name": "stdout",
     "output_type": "stream",
     "text": [
      "[2, 3, 3, 4, 5, 5]\n"
     ]
    }
   ],
   "source": [
    "li1 = [4, 2, 5, 3, 5, 3]\n",
    "print(bubbleSort(li1))"
   ]
  },
  {
   "cell_type": "markdown",
   "metadata": {
    "id": "8D0HLhRyLtVs"
   },
   "source": [
    "# Insertion Sort"
   ]
  },
  {
   "cell_type": "code",
   "execution_count": 52,
   "metadata": {
    "colab": {
     "base_uri": "https://localhost:8080/"
    },
    "id": "qoZksLfkLccK",
    "outputId": "be2f37b8-1e11-4a2a-eebf-aec2074bc5c7"
   },
   "outputs": [
    {
     "name": "stdout",
     "output_type": "stream",
     "text": [
      "초기 리스트 = [7, 4, 6, 1, 5, 3, 8, 9, 2, 10]\n",
      "정렬된 리스트 = [1, 2, 3, 4, 5, 6, 7, 8, 9, 10]\n"
     ]
    }
   ],
   "source": [
    "randList = genRand(10)\n",
    "print(f'초기 리스트 = {randList}')\n",
    "\n",
    "# randList = [10, 4, 2, 3, 1, 8, 6, 9, 7, 5]\n",
    "# print(f'초기 리스트 = {randList}')\n",
    "\n",
    "# for i in range(1, len(randList)):\n",
    "#   pivot = randList[i]\n",
    "#   for j in range(i - 1, -1, -1):\n",
    "#     if pivot < randList[j]:\n",
    "#       print(f'\\n### i = {i}, j ={j}')\n",
    "#       print(f'### randList[{i}] = {randList[i]} < randList[{j}] = {randList[j]}')\n",
    "#       randList[i], randList[j] = randList[j], randList[i]\n",
    "#       print(randList)\n",
    "#       print('\\n')\n",
    "#     else:\n",
    "#       print(f'i = {i} ({randList[i]}), j ={j} ({randList[j]})')\n",
    "#       print(randList)\n",
    "\n",
    "for i in range(1, len(randList)):\n",
    "  pivot = randList[i]\n",
    "  weight = 0\n",
    "  for j in range(i - 1, -1, -1):\n",
    "    if pivot < randList[j]:\n",
    "      randList[i + weight], randList[j] = randList[j], randList[i + weight]\n",
    "    weight -= 1\n",
    "\n",
    "\n",
    "print(f'정렬된 리스트 = {randList}')"
   ]
  },
  {
   "cell_type": "code",
   "execution_count": 53,
   "metadata": {
    "id": "VIRZNt3uOV3y"
   },
   "outputs": [],
   "source": [
    "def insertionSort(l):\n",
    "  for i in range(1, len(l)):\n",
    "    pivot = l[i]\n",
    "    weight = 0\n",
    "    for j in range(i - 1, -1, -1):\n",
    "      if pivot < l[j]:\n",
    "        l[i + weight], l[j] = l[j], l[i + weight]\n",
    "      weight -= 1\n",
    "    return l"
   ]
  },
  {
   "cell_type": "markdown",
   "metadata": {
    "id": "sSFLdu2zWYDX"
   },
   "source": [
    "# 중간점검"
   ]
  },
  {
   "cell_type": "code",
   "execution_count": 54,
   "metadata": {
    "colab": {
     "base_uri": "https://localhost:8080/"
    },
    "id": "bqJLG9JFWSDP",
    "outputId": "17ca43e8-04b7-4681-a96f-b47eca821dd2"
   },
   "outputs": [
    {
     "name": "stdout",
     "output_type": "stream",
     "text": [
      "공통 리스트 = [6, 1, 7, 10, 3, 5, 2, 4, 8, 9]\n"
     ]
    }
   ],
   "source": [
    "randList = genRand(10)\n",
    "print(f'공통 리스트 = {randList}')"
   ]
  },
  {
   "cell_type": "code",
   "execution_count": 55,
   "metadata": {
    "colab": {
     "base_uri": "https://localhost:8080/"
    },
    "id": "dKJPrbpCWeK2",
    "outputId": "57206cca-a3ef-4036-f061-195fee8ef03e"
   },
   "outputs": [
    {
     "name": "stdout",
     "output_type": "stream",
     "text": [
      "[1, 2, 3, 4, 5, 6, 7, 8, 9, 10]\n"
     ]
    }
   ],
   "source": [
    "# Basic Sort\n",
    "print(basicSort(randList)) #0.023초"
   ]
  },
  {
   "cell_type": "code",
   "execution_count": 56,
   "metadata": {
    "colab": {
     "base_uri": "https://localhost:8080/"
    },
    "id": "rSb_u1jqWmQl",
    "outputId": "e80a5e02-b7fe-4d62-fdd7-0a6b1dbddf86"
   },
   "outputs": [
    {
     "name": "stdout",
     "output_type": "stream",
     "text": [
      "[1, 2, 3, 4, 5, 6, 7, 8, 9, 10]\n"
     ]
    }
   ],
   "source": [
    "# Bubble Sort\n",
    "print(bubbleSort(randList)) # 0.018초"
   ]
  },
  {
   "cell_type": "code",
   "execution_count": 57,
   "metadata": {
    "colab": {
     "base_uri": "https://localhost:8080/"
    },
    "id": "Lr1KnhhuWpiQ",
    "outputId": "72b1f930-d2ad-4596-d39b-d78c3b8ace12"
   },
   "outputs": [
    {
     "name": "stdout",
     "output_type": "stream",
     "text": [
      "[1, 2, 3, 4, 5, 6, 7, 8, 9, 10]\n"
     ]
    }
   ],
   "source": [
    "# Insertion Sort\n",
    "print(insertionSort(randList)) # 0.015초"
   ]
  },
  {
   "cell_type": "markdown",
   "metadata": {
    "id": "GRsYmZg1uVXr"
   },
   "source": [
    "# Selection Sort"
   ]
  },
  {
   "cell_type": "code",
   "execution_count": 58,
   "metadata": {
    "colab": {
     "base_uri": "https://localhost:8080/"
    },
    "id": "7o5g6EDpuQh1",
    "outputId": "48a77c2c-3278-4fc1-bb48-149362ecc090"
   },
   "outputs": [
    {
     "name": "stdout",
     "output_type": "stream",
     "text": [
      "초기 리스트 = [2, 4, 8, 9, 6, 7, 10, 5, 1, 3]\n",
      "정렬된 리스트 = [1, 2, 3, 4, 5, 6, 7, 8, 9, 10]\n"
     ]
    }
   ],
   "source": [
    "randList = genRand(10)\n",
    "print(f'초기 리스트 = {randList}')\n",
    "\n",
    "for i in range(len(randList)):\n",
    "  lowest = (randList[i], i)\n",
    "  for j in range(i, len(randList)):\n",
    "    # print(f'i = {i}, j = {j}')\n",
    "    if lowest[0] > randList[j]:\n",
    "      lowest = (randList[j], j)\n",
    "  randList[i], randList[lowest[1]] = randList[lowest[1]], randList[i]\n",
    "\n",
    "print(f'정렬된 리스트 = {randList}')"
   ]
  },
  {
   "cell_type": "code",
   "execution_count": 59,
   "metadata": {
    "id": "oBIzwKE8u4k1"
   },
   "outputs": [],
   "source": [
    "def selectionSort(l):\n",
    "  for i in range(len(l)):\n",
    "    lowest = (l[i], i)\n",
    "    for j in range(i, len(l)):\n",
    "      if lowest[0] > l[j]:\n",
    "        lowest = (l[j], j)\n",
    "    l[i], l[lowest[1]] = l[lowest[1]], l[i]\n",
    "  return l"
   ]
  },
  {
   "cell_type": "code",
   "execution_count": 60,
   "metadata": {
    "colab": {
     "base_uri": "https://localhost:8080/"
    },
    "id": "IkCKs-64MDlV",
    "outputId": "9bed13b4-2ed3-415a-b9f7-e70179559677"
   },
   "outputs": [
    {
     "name": "stdout",
     "output_type": "stream",
     "text": [
      "[2, 3, 3, 4, 5, 5]\n"
     ]
    }
   ],
   "source": [
    "li1 = [4, 2, 5, 3, 5, 3]\n",
    "print(selectionSort(li1))"
   ]
  },
  {
   "cell_type": "markdown",
   "metadata": {
    "id": "Gn-cbyaiMN84"
   },
   "source": [
    "# Shell Sort"
   ]
  },
  {
   "cell_type": "code",
   "execution_count": null,
   "metadata": {
    "id": "z8WwqHBOMIWb"
   },
   "outputs": [],
   "source": []
  }
 ],
 "metadata": {
  "colab": {
   "provenance": [],
   "toc_visible": true
  },
  "kernelspec": {
   "display_name": "Python 3 (ipykernel)",
   "language": "python",
   "name": "python3"
  },
  "language_info": {
   "codemirror_mode": {
    "name": "ipython",
    "version": 3
   },
   "file_extension": ".py",
   "mimetype": "text/x-python",
   "name": "python",
   "nbconvert_exporter": "python",
   "pygments_lexer": "ipython3",
   "version": "3.9.13"
  }
 },
 "nbformat": 4,
 "nbformat_minor": 1
}
